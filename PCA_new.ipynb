{
 "cells": [
  {
   "cell_type": "code",
   "execution_count": 1,
   "id": "780ccbc8",
   "metadata": {},
   "outputs": [],
   "source": [
    "import numpy as np\n",
    "import matplotlib.pyplot as plt\n",
    "from sklearn.model_selection import train_test_split\n",
    "from sklearn.preprocessing import MinMaxScaler\n",
    "from sklearn.decomposition import PCA\n",
    "from scipy import stats\n",
    "from dataset import dataset"
   ]
  },
  {
   "cell_type": "code",
   "execution_count": 2,
   "id": "91137248",
   "metadata": {},
   "outputs": [],
   "source": [
    "def q_stat(r):\n",
    "    q = []\n",
    "    for i in range(r.shape[0]):\n",
    "        q.append(np.matmul(r[i], r[i].T))\n",
    "    return np.array(q)"
   ]
  },
  {
   "cell_type": "code",
   "execution_count": 3,
   "id": "d445c59f",
   "metadata": {},
   "outputs": [
    {
     "name": "stdout",
     "output_type": "stream",
     "text": [
      "dict_keys(['healthy', 'a1', 'a6', 'a17', 'a18'])\n",
      "dict_keys([10, 20, 30, 40, 50, 60, 70, 80, 90])\n"
     ]
    }
   ],
   "source": [
    "num_features = 6\n",
    "data = dataset(num_features=num_features)\n",
    "print(data.keys())\n",
    "print(data['a1'].keys())"
   ]
  },
  {
   "cell_type": "code",
   "execution_count": 4,
   "id": "9336ab70",
   "metadata": {},
   "outputs": [],
   "source": [
    "healthy = data['healthy']\n",
    "scaler = MinMaxScaler()\n",
    "healthy_norm = scaler.fit_transform(healthy)\n",
    "healthy_train, healthy_test = train_test_split(healthy_norm, test_size=20, train_size=80)\n",
    "healthy_train, healthy_valid = train_test_split(healthy_train, test_size=20, train_size=60)"
   ]
  },
  {
   "cell_type": "code",
   "execution_count": 5,
   "id": "f4e29fe9",
   "metadata": {},
   "outputs": [
    {
     "name": "stdout",
     "output_type": "stream",
     "text": [
      "(60, 6) (20, 6) (20, 6)\n"
     ]
    }
   ],
   "source": [
    "print(healthy_train.shape, healthy_valid.shape, healthy_test.shape)"
   ]
  },
  {
   "cell_type": "code",
   "execution_count": 6,
   "id": "25398b7a",
   "metadata": {},
   "outputs": [],
   "source": [
    "defective_valid, defective_test = [], []\n",
    "beams = ['a6', 'a17', 'a18']\n",
    "damages = range(10, 91, 10)\n",
    "for beam in beams:\n",
    "    for damage in damages:\n",
    "        defective = data[beam][damage]\n",
    "        defective_norm = scaler.transform(defective)\n",
    "        valid, test = train_test_split(defective_norm, test_size=50, train_size=50)\n",
    "        defective_valid.append(valid)\n",
    "        defective_test.append(test)\n",
    "defective_valid = np.concatenate(defective_valid, axis=0)\n",
    "defective_test = np.concatenate(defective_test, axis=0)"
   ]
  },
  {
   "cell_type": "markdown",
   "id": "8bb061a4",
   "metadata": {},
   "source": [
    "## ROC Curve"
   ]
  },
  {
   "cell_type": "code",
   "execution_count": 7,
   "id": "58774339",
   "metadata": {},
   "outputs": [],
   "source": [
    "fprs, fnrs = [], []\n",
    "for n_pc in range(1, num_features):\n",
    "    pca = PCA(n_components=n_pc, svd_solver='full')\n",
    "    pca.fit(healthy_train)\n",
    "    \n",
    "    healthy_valid_recons = pca.inverse_transform(pca.transform(healthy_valid))\n",
    "    healthy_valid_residual = healthy_valid_recons - healthy_valid\n",
    "    healthy_valid_q = q_stat(healthy_valid_residual)\n",
    "    \n",
    "    defective_valid_recons = pca.inverse_transform(pca.transform(defective_valid))\n",
    "    defective_valid_residual = defective_valid_recons - defective_valid\n",
    "    defective_valid_q = q_stat(defective_valid_residual)\n",
    "    \n",
    "    fpr, fnr = [], []\n",
    "    conf_range = range(800, 1000)\n",
    "    for conf in conf_range:\n",
    "        # Q-statistic threshold\n",
    "        c_alpha = stats.norm.ppf(conf / 1000)\n",
    "        cov = np.cov(healthy_train.T)\n",
    "        d, _ = np.linalg.eig(cov)\n",
    "        d = np.sort(d)[::-1]\n",
    "        theta = []\n",
    "        for i in range(3):\n",
    "            theta.append(np.sum(np.array(d[n_pc:]) ** (i + 1)))\n",
    "        h_0 = 1 - (2 * theta[0] * theta[2]) / (3 * theta[1] ** 2)\n",
    "        q_alpha = theta[0] * np.power((c_alpha * h_0 * np.sqrt(\n",
    "            2 * theta[1]) / theta[0] + 1 + theta[1] * h_0 * (h_0 - 1) / theta[0] ** 2), 1 / h_0)\n",
    "        \n",
    "        healthy_valid_y = np.zeros(healthy_valid_q.shape)  # 0 = Healthy (negative), 1 = Failed (positive)\n",
    "        defective_valid_y = np.zeros(defective_valid_q.shape)\n",
    "        \n",
    "        for i in range(healthy_valid_q.shape[0]):\n",
    "            if not healthy_valid_q[i] <= q_alpha:\n",
    "                healthy_valid_y[i] = 1\n",
    "        for i in range(defective_valid_q.shape[0]):\n",
    "            if not defective_valid_q[i] <= q_alpha:\n",
    "                defective_valid_y[i] = 1\n",
    "        \n",
    "        fpr.append(np.count_nonzero(healthy_valid_y) / healthy_valid_y.shape[0])\n",
    "        fnr.append(1 - np.count_nonzero(defective_valid_y) / defective_valid_y.shape[0])\n",
    "    \n",
    "    fprs.append(fpr)\n",
    "    fnrs.append(fnr)"
   ]
  },
  {
   "cell_type": "code",
   "execution_count": 8,
   "id": "eed97cad",
   "metadata": {},
   "outputs": [],
   "source": [
    "all_fprs = [item for sublist in fprs for item in sublist]\n",
    "all_fnrs = [item for sublist in fnrs for item in sublist]"
   ]
  },
  {
   "cell_type": "code",
   "execution_count": 9,
   "id": "838b8bd7",
   "metadata": {},
   "outputs": [
    {
     "data": {
      "image/png": "[encoded data removed]",
      "text/plain": [
       "<Figure size 432x288 with 1 Axes>"
      ]
     },
     "metadata": {
      "needs_background": "light"
     },
     "output_type": "display_data"
    }
   ],
   "source": [
    "plt.figure()\n",
    "plt.scatter(all_fprs, all_fnrs)\n",
    "plt.xlabel('False positive ratio')\n",
    "plt.ylabel('False negative ratio')\n",
    "plt.xlim([-0.1, 1.1])\n",
    "plt.ylim([-0.1, 1.1])\n",
    "plt.title('ROC Curve for Validation Set')\n",
    "plt.show()"
   ]
  },
  {
   "cell_type": "code",
   "execution_count": 15,
   "id": "4f85996f",
   "metadata": {},
   "outputs": [
    {
     "name": "stdout",
     "output_type": "stream",
     "text": [
      "147 0.18148148148148147\n"
     ]
    }
   ],
   "source": [
    "# distances = []\n",
    "# for i in range(len(all_fprs)):\n",
    "#     distances.append(np.sqrt(all_fprs[i] ** 2 + all_fnrs[i] ** 2))\n",
    "# min_idx = np.argmin(distances)\n",
    "# print(min_idx)\n",
    "\n",
    "allowed_fpr = 0\n",
    "min_fnr = 1\n",
    "min_idx = 0\n",
    "for i in range(len(all_fnrs)):\n",
    "    if all_fprs[i] == allowed_fpr:\n",
    "        if all_fnrs[i] < min_fnr:\n",
    "            min_fnr = all_fnrs[i]\n",
    "            min_idx = i\n",
    "print(min_idx, min_fnr)"
   ]
  },
  {
   "cell_type": "code",
   "execution_count": 16,
   "id": "a80b8f52",
   "metadata": {},
   "outputs": [
    {
     "name": "stdout",
     "output_type": "stream",
     "text": [
      "0.0 0.18148148148148147\n"
     ]
    }
   ],
   "source": [
    "best_fpr = all_fprs[min_idx]\n",
    "best_fnr = all_fnrs[min_idx]\n",
    "print(best_fpr, best_fnr)"
   ]
  },
  {
   "cell_type": "code",
   "execution_count": 17,
   "id": "601f8f85",
   "metadata": {},
   "outputs": [
    {
     "name": "stdout",
     "output_type": "stream",
     "text": [
      "1\n"
     ]
    }
   ],
   "source": [
    "best_n_pc = int(np.ceil(min_idx / len(fprs[0])))\n",
    "print(best_n_pc)"
   ]
  },
  {
   "cell_type": "code",
   "execution_count": 18,
   "id": "656f06c8",
   "metadata": {},
   "outputs": [
    {
     "name": "stdout",
     "output_type": "stream",
     "text": [
      "0.947\n"
     ]
    }
   ],
   "source": [
    "conf_idx = min_idx\n",
    "while conf_idx >= 200:\n",
    "    conf_idx -= 200\n",
    "best_conf = conf_range[conf_idx] / 1000\n",
    "print(best_conf)"
   ]
  },
  {
   "cell_type": "markdown",
   "id": "ac4c7c20",
   "metadata": {},
   "source": [
    "## Testing"
   ]
  },
  {
   "cell_type": "code",
   "execution_count": 19,
   "id": "6a4cd947",
   "metadata": {},
   "outputs": [
    {
     "name": "stdout",
     "output_type": "stream",
     "text": [
      "0.05 0.18518518518518523\n"
     ]
    }
   ],
   "source": [
    "pca = PCA(n_components=best_n_pc, svd_solver='full')\n",
    "pca.fit(healthy_train)\n",
    "\n",
    "healthy_test_recons = pca.inverse_transform(pca.transform(healthy_test))\n",
    "healthy_test_residual = healthy_test_recons - healthy_test\n",
    "healthy_test_q = q_stat(healthy_test_residual)\n",
    "\n",
    "defective_test_recons = pca.inverse_transform(pca.transform(defective_test))\n",
    "defective_test_residual = defective_test_recons - defective_test\n",
    "defective_test_q = q_stat(defective_test_residual)\n",
    "\n",
    "# Q-statistic threshold\n",
    "c_alpha = stats.norm.ppf(best_conf)\n",
    "cov = np.cov(healthy_train.T)\n",
    "d, _ = np.linalg.eig(cov)\n",
    "d = np.sort(d)[::-1]\n",
    "theta = []\n",
    "for i in range(3):\n",
    "    theta.append(np.sum(np.array(d[best_n_pc:]) ** (i + 1)))\n",
    "h_0 = 1 - (2 * theta[0] * theta[2]) / (3 * theta[1] ** 2)\n",
    "q_alpha = theta[0] * np.power((c_alpha * h_0 * np.sqrt(\n",
    "    2 * theta[1]) / theta[0] + 1 + theta[1] * h_0 * (h_0 - 1) / theta[0] ** 2), 1 / h_0)\n",
    "\n",
    "healthy_test_y = np.zeros(healthy_test_q.shape)  # 0 = Healthy (negative), 1 = Failed (positive)\n",
    "defective_test_y = np.zeros(defective_test_q.shape)\n",
    "\n",
    "for i in range(healthy_test_q.shape[0]):\n",
    "    if not healthy_test_q[i] <= q_alpha:\n",
    "        healthy_test_y[i] = 1\n",
    "for i in range(defective_test_q.shape[0]):\n",
    "    if not defective_test_q[i] <= q_alpha:\n",
    "        defective_test_y[i] = 1\n",
    "\n",
    "fpr_test = np.count_nonzero(healthy_test_y) / healthy_test_y.shape[0]\n",
    "fnr_test = 1 - np.count_nonzero(defective_test_y) / defective_test_y.shape[0]\n",
    "\n",
    "print(fpr_test, fnr_test)"
   ]
  },
  {
   "cell_type": "markdown",
   "id": "65cb99bc",
   "metadata": {},
   "source": [
    "## FNR vs. Cross-Section Reduction"
   ]
  },
  {
   "cell_type": "code",
   "execution_count": 55,
   "id": "8b2a52a7",
   "metadata": {},
   "outputs": [],
   "source": [
    "dic = {}\n",
    "for key in damages:\n",
    "    dic[key] = []\n",
    "\n",
    "n_per_beam = int(defective_test_q.shape[0] / len(beams))\n",
    "n_per_damage = int(n_per_beam / len(damages))\n",
    "\n",
    "for i in range(len(beams)):\n",
    "    q = defective_test_q[i * n_per_beam:(i + 1) * n_per_beam]\n",
    "    for i, damage in enumerate(damages):\n",
    "        q_damage = q[i * n_per_damage:(i + 1) * n_per_damage]\n",
    "        dic[damage].append(q_damage)\n",
    "\n",
    "for key in dic.keys():\n",
    "    dic[key] = np.concatenate(dic[key], axis=0)"
   ]
  },
  {
   "cell_type": "code",
   "execution_count": 59,
   "id": "d2de7c62",
   "metadata": {},
   "outputs": [],
   "source": [
    "fnr = []\n",
    "for damage in dic.keys():\n",
    "    q = dic[damage]\n",
    "    y = np.zeros(q.shape)\n",
    "    for i in range(q.shape[0]):\n",
    "        if not q[i] <= q_alpha:\n",
    "            y[i] = 1\n",
    "    fnr.append(1 - np.count_nonzero(y) / y.shape[0])"
   ]
  },
  {
   "cell_type": "code",
   "execution_count": 70,
   "id": "3015f996",
   "metadata": {},
   "outputs": [
    {
     "name": "stdout",
     "output_type": "stream",
     "text": [
      "[0.8133333333333334, 0.6333333333333333, 0.21333333333333337, 0.00666666666666671, 0.0, 0.0, 0.0, 0.0, 0.0]\n"
     ]
    }
   ],
   "source": [
    "print(fnr)"
   ]
  },
  {
   "cell_type": "code",
   "execution_count": 69,
   "id": "889c1adb",
   "metadata": {},
   "outputs": [
    {
     "data": {
      "image/png": "[encoded data removed]",
      "text/plain": [
       "<Figure size 432x288 with 1 Axes>"
      ]
     },
     "metadata": {
      "needs_background": "light"
     },
     "output_type": "display_data"
    }
   ],
   "source": [
    "plt.figure()\n",
    "plt.plot(range(10, 91, 10), fnr)\n",
    "plt.scatter(range(10, 91, 10), fnr)\n",
    "plt.xlabel('Cross-section Reduction')\n",
    "plt.ylabel('Missed Alarm Ratio')\n",
    "plt.title('Missed Alarm Ratio vs. Damage Level')\n",
    "plt.ylim([-0.1, 1.1])\n",
    "plt.show()"
   ]
  }
 ],
 "metadata": {
  "kernelspec": {
   "display_name": "Python 3 (ipykernel)",
   "language": "python",
   "name": "python3"
  },
  "language_info": {
   "codemirror_mode": {
    "name": "ipython",
    "version": 3
   },
   "file_extension": ".py",
   "mimetype": "text/x-python",
   "name": "python",
   "nbconvert_exporter": "python",
   "pygments_lexer": "ipython3",
   "version": "3.8.8"
  }
 },
 "nbformat": 4,
 "nbformat_minor": 5
}
