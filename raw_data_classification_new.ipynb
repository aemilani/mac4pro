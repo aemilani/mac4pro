{
 "cells": [
  {
   "cell_type": "code",
   "execution_count": 1,
   "id": "99a089ef",
   "metadata": {},
   "outputs": [],
   "source": [
    "import numpy as np\n",
    "import matplotlib.pyplot as plt\n",
    "from tensorflow.keras.layers import Conv2D, MaxPooling2D, Flatten, Dense, Dropout\n",
    "from tensorflow.keras import Sequential\n",
    "from tensorflow.keras.models import load_model\n",
    "from tensorflow.keras.utils import to_categorical\n",
    "from tensorflow.keras import backend\n",
    "from tensorflow.keras.callbacks import EarlyStopping, ModelCheckpoint\n",
    "from dataset import load_raw_data"
   ]
  },
  {
   "cell_type": "code",
   "execution_count": 2,
   "id": "4f390e0c",
   "metadata": {},
   "outputs": [],
   "source": [
    "signal_idx = [10, 11, 12, 16, 17, 18, 34, 35, 36, 40, 41, 42, 58, 59, 60]\n",
    "\n",
    "# multiple binary classifiers\n",
    "n_classes = 2\n",
    "data = load_raw_data()\n",
    "healthy_data = data[0]\n",
    "healthy_labels = to_categorical(np.zeros(healthy_data.shape[0]), num_classes=n_classes)"
   ]
  },
  {
   "cell_type": "code",
   "execution_count": null,
   "id": "1e352999",
   "metadata": {},
   "outputs": [
    {
     "name": "stdout",
     "output_type": "stream",
     "text": [
      "*** Beam: 5 ***\n",
      "*** Iteration: 1 / 1 ***\n",
      "*** Fold: 1 / 10 ***\n",
      "1/1 [==============================] - 0s 70ms/step - loss: 0.6872 - accuracy: 0.5000\n",
      "*** Fold: 2 / 10 ***\n",
      "1/1 [==============================] - 0s 120ms/step - loss: 0.7170 - accuracy: 0.5000\n",
      "*** Fold: 3 / 10 ***\n",
      "1/1 [==============================] - 0s 139ms/step - loss: 0.7023 - accuracy: 0.5000\n",
      "*** Fold: 4 / 10 ***\n",
      "1/1 [==============================] - 0s 109ms/step - loss: 0.7075 - accuracy: 0.5000\n",
      "*** Fold: 5 / 10 ***\n",
      "1/1 [==============================] - 0s 114ms/step - loss: 0.7116 - accuracy: 0.5000\n",
      "*** Fold: 6 / 10 ***\n",
      "1/1 [==============================] - 0s 111ms/step - loss: 0.7029 - accuracy: 0.5000\n",
      "*** Fold: 7 / 10 ***\n",
      "1/1 [==============================] - 0s 92ms/step - loss: 0.7100 - accuracy: 0.5000\n",
      "*** Fold: 8 / 10 ***\n",
      "1/1 [==============================] - 0s 108ms/step - loss: 0.6915 - accuracy: 0.5500\n",
      "*** Fold: 9 / 10 ***\n",
      "1/1 [==============================] - 0s 119ms/step - loss: 0.7059 - accuracy: 0.5000\n",
      "*** Fold: 10 / 10 ***\n"
     ]
    }
   ],
   "source": [
    "accs_dic = {}\n",
    "for b in list(data.keys())[1:]:\n",
    "    print(f'*** Beam: {b} ***')\n",
    "    defective_data = data[b]\n",
    "    defective_labels = to_categorical(np.ones(healthy_data.shape[0]), num_classes=n_classes)\n",
    "\n",
    "    n_times = 1\n",
    "    n_folds = 10\n",
    "    idxs = list(range(healthy_data.shape[0]))\n",
    "    accs = []\n",
    "    for t in range(n_times):\n",
    "        print(f'*** Iteration: {t + 1} / {n_times} ***')\n",
    "        for i in range(n_folds):\n",
    "            print(f'*** Fold: {i + 1} / {n_folds} ***')\n",
    "            idxs_test = list(range(int(len(idxs) / n_folds) * i, int(len(idxs) / n_folds) * (i + 1)))\n",
    "            idxs_train = [idx for idx in idxs if idx not in idxs_test]\n",
    "\n",
    "            x_train = np.concatenate((healthy_data[idxs_train, :, :, :], defective_data[idxs_train, :, :, :]), axis=0)\n",
    "            y_train = np.concatenate((healthy_labels[idxs_train, :], defective_labels[idxs_train, :]), axis=0)\n",
    "            x_test = np.concatenate((healthy_data[idxs_test, :, :, :], defective_data[idxs_test, :, :, :]), axis=0)\n",
    "            y_test = np.concatenate((healthy_labels[idxs_test, :], defective_labels[idxs_test, :]), axis=0)\n",
    "\n",
    "            model = Sequential()\n",
    "            model.add(Conv2D(4, (3, 3), padding='same', activation='relu', input_shape=(15, 15, 1)))\n",
    "            model.add(MaxPooling2D(pool_size=(2, 2)))\n",
    "            model.add(Flatten())\n",
    "            model.add(Dropout(0.5))\n",
    "            model.add(Dense(n_classes, activation='softmax'))\n",
    "\n",
    "            ea = EarlyStopping(patience=100)\n",
    "            cp = ModelCheckpoint('checkpoints/cnn.h5', save_best_only=True)\n",
    "            cb = [ea, cp]\n",
    "\n",
    "            model.compile('nadam', 'binary_crossentropy', ['accuracy'])\n",
    "            history = model.fit(x_train, y_train, batch_size=2, verbose=0, epochs=1000, validation_split=0.2,\n",
    "                                callbacks=cb)\n",
    "\n",
    "            model = load_model('checkpoints/cnn.h5')\n",
    "            test_accuracy = model.evaluate(x_test, y_test)[1]\n",
    "            accs.append(test_accuracy)\n",
    "\n",
    "            backend.clear_session()\n",
    "\n",
    "    accs_dic[b] = np.mean(accs), np.std(accs)"
   ]
  },
  {
   "cell_type": "code",
   "execution_count": null,
   "id": "6cf0f5e5",
   "metadata": {},
   "outputs": [],
   "source": [
    "fig, ax = plt.subplots()\n",
    "ax.bar(np.arange(len(accs_dic)), [m[0] for m in accs_dic.values()], yerr=[m[1] for m in accs_dic.values()],\n",
    "       align='center', alpha=0.5, ecolor='black', capsize=10)\n",
    "ax.set_xlabel('Beams')\n",
    "ax.set_ylabel('Accuracy')\n",
    "ax.set_xticks(np.arange(len(accs_dic)))\n",
    "ax.set_xticklabels(accs_dic.keys())\n",
    "ax.yaxis.grid(True)\n",
    "ax.set_title('Healthy/Defective Classification Accuracy for each Beam')\n",
    "fig.show()"
   ]
  },
  {
   "cell_type": "code",
   "execution_count": null,
   "id": "45d79dc8",
   "metadata": {},
   "outputs": [],
   "source": []
  }
 ],
 "metadata": {
  "kernelspec": {
   "display_name": "Python 3 (ipykernel)",
   "language": "python",
   "name": "python3"
  },
  "language_info": {
   "codemirror_mode": {
    "name": "ipython",
    "version": 3
   },
   "file_extension": ".py",
   "mimetype": "text/x-python",
   "name": "python",
   "nbconvert_exporter": "python",
   "pygments_lexer": "ipython3",
   "version": "3.8.8"
  }
 },
 "nbformat": 4,
 "nbformat_minor": 5
}
